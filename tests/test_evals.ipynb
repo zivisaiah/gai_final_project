{
  "cells": [
    {
      "cell_type": "raw",
      "metadata": {
        "vscode": {
          "languageId": "raw"
        }
      },
      "source": [
        "# Complete System Evaluation Pipeline\n",
        "## Multi-Agent Recruitment Chatbot Performance Analysis\n",
        "\n",
        "This notebook provides comprehensive evaluation of the multi-agent recruitment system including:\n",
        "- Core Agent decision accuracy\n",
        "- Info Advisor Q&A quality\n",
        "- Scheduling Advisor performance\n",
        "- Exit Advisor precision\n",
        "- Overall system metrics and confusion matrices\n",
        "\n",
        "**Target: >85% accuracy across all agents**\n"
      ]
    },
    {
      "cell_type": "code",
      "execution_count": null,
      "metadata": {},
      "outputs": [],
      "source": [
        "# Import required libraries\n",
        "import sys\n",
        "import json\n",
        "import asyncio\n",
        "import numpy as np\n",
        "import pandas as pd\n",
        "import matplotlib.pyplot as plt\n",
        "import seaborn as sns\n",
        "from pathlib import Path\n",
        "from datetime import datetime\n",
        "from typing import Dict, List, Tuple\n",
        "from collections import Counter, defaultdict\n",
        "\n",
        "# ML evaluation metrics\n",
        "from sklearn.metrics import (\n",
        "    confusion_matrix, \n",
        "    classification_report, \n",
        "    accuracy_score,\n",
        "    precision_recall_fscore_support,\n",
        "    roc_auc_score\n",
        ")\n",
        "\n",
        "# Add project root to path\n",
        "project_root = Path.cwd().parent if Path.cwd().name == 'tests' else Path.cwd()\n",
        "sys.path.insert(0, str(project_root))\n",
        "\n",
        "print(f\"📁 Project root: {project_root}\")\n",
        "print(f\"🐍 Python version: {sys.version}\")\n",
        "print(f\"📊 NumPy version: {np.__version__}\")\n",
        "print(f\"🐼 Pandas version: {pd.__version__}\")\n"
      ]
    },
    {
      "cell_type": "code",
      "execution_count": null,
      "metadata": {},
      "outputs": [],
      "source": [
        "# Import our agents and components\n",
        "from app.modules.agents.core_agent import CoreAgent, AgentDecision\n",
        "from app.modules.agents.info_advisor import InfoAdvisor\n",
        "from app.modules.agents.scheduling_advisor import SchedulingAdvisor\n",
        "from app.modules.agents.exit_advisor import ExitAdvisor\n",
        "from app.modules.database.vector_store import VectorStore\n",
        "from config.phase1_settings import get_settings\n",
        "\n",
        "# Initialize settings\n",
        "settings = get_settings()\n",
        "print(f\"🔧 Model: {settings.OPENAI_MODEL}\")\n",
        "print(f\"🌡️ Temperature: {settings.OPENAI_TEMPERATURE}\")\n"
      ]
    },
    {
      "cell_type": "code",
      "execution_count": null,
      "metadata": {},
      "outputs": [],
      "source": [
        "# Test dataset for Core Agent decision evaluation\n",
        "core_agent_test_cases = [\n",
        "    # CONTINUE decisions\n",
        "    {\"message\": \"Hi, I'm interested in learning more about this position\", \"expected\": \"CONTINUE\"},\n",
        "    {\"message\": \"Tell me about your company culture\", \"expected\": \"CONTINUE\"},\n",
        "    {\"message\": \"I have some questions about the role\", \"expected\": \"CONTINUE\"},\n",
        "    \n",
        "    # INFO decisions\n",
        "    {\"message\": \"What programming languages are required for this position?\", \"expected\": \"INFO\"},\n",
        "    {\"message\": \"What are the main responsibilities of this role?\", \"expected\": \"INFO\"},\n",
        "    {\"message\": \"What experience level is needed?\", \"expected\": \"INFO\"},\n",
        "    {\"message\": \"What technologies should I know?\", \"expected\": \"INFO\"},\n",
        "    \n",
        "    # SCHEDULE decisions\n",
        "    {\"message\": \"I'd like to schedule an interview\", \"expected\": \"SCHEDULE\"},\n",
        "    {\"message\": \"When can we meet for an interview?\", \"expected\": \"SCHEDULE\"},\n",
        "    {\"message\": \"Let's set up a time to talk\", \"expected\": \"SCHEDULE\"},\n",
        "    \n",
        "    # END decisions\n",
        "    {\"message\": \"I'm not interested in this position\", \"expected\": \"END\"},\n",
        "    {\"message\": \"I found another job, thanks\", \"expected\": \"END\"},\n",
        "    {\"message\": \"This role isn't a good fit for me\", \"expected\": \"END\"},\n",
        "]\n",
        "\n",
        "print(f\"📊 Core Agent test cases: {len(core_agent_test_cases)}\")\n",
        "decision_counts = Counter(case['expected'] for case in core_agent_test_cases)\n",
        "for decision, count in decision_counts.items():\n",
        "    print(f\"  {decision}: {count} cases\")\n"
      ]
    }
  ],
  "metadata": {
    "language_info": {
      "name": "python"
    }
  },
  "nbformat": 4,
  "nbformat_minor": 2
}
